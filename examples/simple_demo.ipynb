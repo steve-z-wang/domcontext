{
 "cells": [
  {
   "cell_type": "markdown",
   "metadata": {},
   "source": [
    "# Simple DomContext Demo\n",
    "\n",
    "This notebook demonstrates the basic usage of domcontext:\n",
    "1. Capturing a web page (Google) with Playwright\n",
    "2. Parsing it into clean markdown\n",
    "3. Finding elements by ID\n",
    "4. Chunking large pages\n",
    "\n",
    "## Prerequisites\n",
    "\n",
    "```bash\n",
    "pip install domcontext[playwright]\n",
    "playwright install chromium\n",
    "```"
   ]
  },
  {
   "cell_type": "markdown",
   "metadata": {},
   "source": [
    "## Setup"
   ]
  },
  {
   "cell_type": "code",
   "execution_count": 1,
   "metadata": {},
   "outputs": [],
   "source": [
    "from playwright.async_api import async_playwright\n",
    "from domcontext import DomContext\n",
    "from domcontext.utils import capture_snapshot"
   ]
  },
  {
   "cell_type": "markdown",
   "metadata": {},
   "source": [
    "## Step 1: Capture Google Search Page"
   ]
  },
  {
   "cell_type": "code",
   "execution_count": 2,
   "metadata": {},
   "outputs": [
    {
     "name": "stdout",
     "output_type": "stream",
     "text": [
      "Navigating to Google...\n",
      "Waiting for page to stabilize...\n",
      "Capturing snapshot...\n",
      "✓ Snapshot captured!\n",
      "Browser will remain open for viewing.\n"
     ]
    }
   ],
   "source": [
    "# Capture CDP snapshot from Google\n",
    "# Browser will stay open so you can view the page\n",
    "playwright = await async_playwright().start()\n",
    "browser = await playwright.chromium.launch(headless=False)\n",
    "page = await browser.new_page()\n",
    "\n",
    "# Navigate to Google\n",
    "print(\"Navigating to Google...\")\n",
    "await page.goto('https://www.google.com')\n",
    "\n",
    "# Wait for page to stabilize\n",
    "print(\"Waiting for page to stabilize...\")\n",
    "await page.wait_for_timeout(1000)  # Wait 1 second\n",
    "\n",
    "# Capture snapshot\n",
    "print(\"Capturing snapshot...\")\n",
    "snapshot = await capture_snapshot(page)\n",
    "\n",
    "print(\"✓ Snapshot captured!\")\n",
    "print(\"Browser will remain open for viewing.\")"
   ]
  },
  {
   "cell_type": "markdown",
   "metadata": {},
   "source": [
    "## Step 2: Parse into DomContext"
   ]
  },
  {
   "cell_type": "code",
   "execution_count": 3,
   "metadata": {},
   "outputs": [
    {
     "name": "stdout",
     "output_type": "stream",
     "text": [
      "Total tokens: 617\n",
      "Total elements: 49\n"
     ]
    }
   ],
   "source": [
    "# Parse the snapshot\n",
    "context = DomContext.from_cdp(snapshot)\n",
    "\n",
    "print(f\"Total tokens: {context.tokens}\")\n",
    "print(f\"Total elements: {len(list(context.elements()))}\")"
   ]
  },
  {
   "cell_type": "markdown",
   "metadata": {},
   "source": [
    "## Step 3: View Clean Markdown Output"
   ]
  },
  {
   "cell_type": "code",
   "execution_count": 4,
   "metadata": {},
   "outputs": [
    {
     "name": "stdout",
     "output_type": "stream",
     "text": [
      "- body-1\n",
      "  - div-1\n",
      "    - div-2 (role=\"navigation\")\n",
      "      - a-1\n",
      "        - \"About\"\n",
      "      - a-2\n",
      "        - \"Store\"\n",
      "      - header-1 (role=\"none\")\n",
      "        - div-3\n",
      "          - a-3 (aria-label=\"Gmail \")\n",
      "            - \"Gmail\"\n",
      "          - a-4 (aria-label=\"Search for Images \")\n",
      "            - \"Images\"\n",
      "        - a-5 (aria-label=\"Google apps\" aria-expanded=\"false\" role=\"button\")\n",
      "        - a-6 (aria-label=\"Sign in\")\n",
      "          - span-1\n",
      "            - \"Sign in\"\n",
      "    - svg-1 (aria-label=\"Google\" role=\"img\")\n",
      "    - form-1 (role=\"search\")\n",
      "      - div-4\n",
      "        - div-5\n",
      "          - textarea-1 (title=\"Search\" aria-label=\"Search\" aria-expanded=\"false\" name=\"q\" role=\"combobox\")\n",
      "          - div-6\n",
      "            - div-7 (aria-label=\" Clear\" role=\"button\")\n",
      "            - div-8\n",
      "              - div-9 (aria-label=\"Search by voice\" role=\"button\")\n",
      "              - div-10 (aria-label=\"Search by image\" role=\"button\")\n",
      "            - button-1 (role=\"link\" type=\"button\")\n",
      "              - span-2\n",
      "                - \"AI Mode\"\n",
      "        - center-1\n",
      "          - input-1 (value=\"Google Search\" aria-label=\"Google Search\" name=\"btnK\" role=\"button\" type=\"submit\")\n",
      "          - input-2 (value=\"I'm Feeling Lucky\" aria-label=\"I'm Feeling Lucky\" name=\"btnI\" role=\"button\" type=\"submit\")\n",
      "    - div-11 (role=\"contentinfo\")\n",
      "      - div-12\n",
      "        - div-13\n",
      "          - a-7\n",
      "            - \"Advertising\"\n",
      "          - a-8\n",
      "            - \"Business\"\n",
      "          - a-9\n",
      "            - \" How Search works \"\n",
      "        - span-3\n",
      "          - \"Applying AI towards science and the environment\"\n",
      "        - div-14\n",
      "          - a-10\n",
      "            - \"Privacy\"\n",
      "          - a-11\n",
      "            - \"Terms\"\n",
      "          - div-15 (aria-expanded=\"false\" role=\"button\")\n",
      "            - div-16\n",
      "              - \"Settings\"\n",
      "  - div-17\n",
      "    - \"Google apps\"\n",
      "  - div-18 (aria-describedby=\"promo_desc_id\" aria-labelledby=\"promo_label_id\" role=\"dialog\")\n",
      "    - div-19\n",
      "      - span-4\n",
      "        - \"Sign in to Google\"\n",
      "      - span-5\n",
      "        - \"Get the most from your Google account\"\n",
      "      - div-20\n",
      "        - div-21 (role=\"button\")\n",
      "          - span-6\n",
      "            - \"Stay signed out\"\n",
      "        - div-22 (role=\"button\")\n",
      "          - span-7\n",
      "            - \"Sign in\"\n"
     ]
    }
   ],
   "source": [
    "# Show the clean markdown representation\n",
    "print(context.markdown)"
   ]
  },
  {
   "cell_type": "markdown",
   "metadata": {},
   "source": [
    "## Step 4: Get Elements by ID\n",
    "\n",
    "Looking at the markdown above, each element has a readable ID like `input-1`, `textarea-1`, `div-1`, etc.\n",
    "You can use `context.get_element(id)` to retrieve specific elements."
   ]
  },
  {
   "cell_type": "code",
   "execution_count": 5,
   "metadata": {},
   "outputs": [
    {
     "name": "stdout",
     "output_type": "stream",
     "text": [
      "Tag: input\n",
      "Text: \n",
      "Attributes: {'class': 'gNO89b', 'value': 'Google Search', 'aria-label': 'Google Search', 'name': 'btnK', 'role': 'button', 'tabindex': '0', 'type': 'submit', 'data-ved': '0ahUKEwi4js6Rz6-QAxW4OjQIHatrO9AQ4dUDCBM'}\n",
      "\n",
      "Tag: textarea\n",
      "Attributes: {'jsname': 'yZiJbe', 'class': 'gLFyf', 'aria-controls': 'Alh6id', 'aria-owns': 'Alh6id', 'title': 'Search', 'aria-label': 'Search', 'aria-autocomplete': 'both', 'aria-expanded': 'false', 'aria-haspopup': 'false', 'autocapitalize': 'off', 'autocomplete': 'off', 'autocorrect': 'off', 'id': 'APjFqb', 'maxlength': '2048', 'name': 'q', 'role': 'combobox', 'rows': '1', 'spellcheck': 'false', 'data-ved': '0ahUKEwi4js6Rz6-QAxW4OjQIHatrO9AQ39UDCAU'}\n"
     ]
    }
   ],
   "source": [
    "# Get a specific element by ID from the markdown\n",
    "# Looking at the markdown above, we can see \"input-1\" is the Google Search button\n",
    "search_button = context.get_element('input-1')\n",
    "\n",
    "print(f\"Tag: {search_button.tag}\")\n",
    "print(f\"Text: {search_button.text}\")\n",
    "print(f\"Attributes: {search_button.attributes}\")\n",
    "print()\n",
    "\n",
    "# Get the search textarea\n",
    "search_input = context.get_element('textarea-1')\n",
    "print(f\"Tag: {search_input.tag}\")\n",
    "print(f\"Attributes: {search_input.attributes}\")"
   ]
  },
  {
   "cell_type": "markdown",
   "metadata": {},
   "source": [
    "## Step 5: Iterate Through All Elements\n",
    "\n",
    "You can iterate through all elements to explore the page structure."
   ]
  },
  {
   "cell_type": "code",
   "execution_count": 6,
   "metadata": {},
   "outputs": [
    {
     "name": "stdout",
     "output_type": "stream",
     "text": [
      "First 10 elements:\n",
      "============================================================\n",
      "1. body       - About Store Gmail Images  Sign in  AI Mo\n",
      "2. div        - About Store Gmail Images  Sign in  AI Mo\n",
      "3. div        - About Store Gmail Images  Sign in\n",
      "4. a          - About\n",
      "5. a          - Store\n",
      "6. header     - Gmail Images  Sign in\n",
      "7. div        - Gmail Images\n",
      "8. a          - Gmail\n",
      "9. a          - Images\n",
      "10. a          - (no text)\n",
      "\n",
      "Total: 49 elements\n"
     ]
    }
   ],
   "source": [
    "# Iterate through first 10 elements\n",
    "print(\"First 10 elements:\")\n",
    "print(\"=\" * 60)\n",
    "\n",
    "for i, element in enumerate(list(context.elements())[:10], 1):\n",
    "    text_preview = element.text[:40] if element.text else \"(no text)\"\n",
    "    print(f\"{i}. {element.tag:10} - {text_preview}\")\n",
    "    \n",
    "print()\n",
    "print(f\"Total: {len(list(context.elements()))} elements\")"
   ]
  },
  {
   "cell_type": "markdown",
   "metadata": {},
   "source": [
    "## Step 6: Chunking for Large Pages\n",
    "\n",
    "Split the DOM into smaller chunks that fit in LLM context windows.\n",
    "\n",
    "**New in v0.1.3**: Atomic-level chunking with continuation markers (`...`) and parent context!"
   ]
  },
  {
   "cell_type": "code",
   "execution_count": 7,
   "metadata": {},
   "outputs": [
    {
     "name": "stdout",
     "output_type": "stream",
     "text": [
      "Total chunks: 7\n",
      "\n",
      "============================================================\n",
      "\n",
      "Chunk 1:\n",
      "  Tokens: 198\n",
      "  Preview:\n",
      "- body-1\n",
      "  - div-1\n",
      "    - div-2 (role=\"navigation\")\n",
      "      - a-1\n",
      "        - \"About\"\n",
      "      - a-2\n",
      "        - \"Store\"\n",
      "      - header-1 (role=\"none\")\n",
      "        - div-3\n",
      "          - a-3 (aria-label=\"Gmail \")\n",
      "            - \"Gmail\"\n",
      "          - a-4 (aria-label=\"Search for Images \")\n",
      "            - \"Images\"\n",
      "        - a-5 (aria-label=\"Google apps\" aria-expanded=\"false\" role=\"button\")\n",
      "        - a-6 (aria-label=\"Sign in\")\n",
      "          - span-1\n",
      "            - \"Sign in\"\n",
      "    - svg-1 (aria-label=\"Google\" role=\"img\")\n",
      "    - form-1 (role=\"search\")\n",
      "      - div-4\n",
      "        - div-5\n",
      "          - textarea-1 (title=\"Search\" aria-label=\"Search\" aria-expanded=\"false\" ...)\n",
      "\n",
      "\n",
      "Chunk 2:\n",
      "  Tokens: 195\n",
      "  Preview:\n",
      "- body-1\n",
      "  - div-1\n",
      "    - div-2\n",
      "      - header-1\n",
      "        - a-5 (aria-label=\"Google apps\" aria-expanded=\"false\" role=\"button\")\n",
      "        - a-6 (aria-label=\"Sign in\")\n",
      "          - span-1\n",
      "            - \"Sign in\"\n",
      "    - svg-1 (aria-label=\"Google\" role=\"img\")\n",
      "    - form-1 (role=\"search\")\n",
      "      - div-4\n",
      "        - div-5\n",
      "          - textarea-1 (title=\"Search\" aria-label=\"Search\" aria-expanded=\"false\" name=\"q\" role=\"combobox\")\n",
      "          - div-6\n",
      "            - div-7 (aria-label=\" Clear\" role=\"button\")\n",
      "            - div-8\n",
      "              - div-9 (aria-label=\"Search by voice\" role=\"button\")\n",
      "              - div-10 (aria-label=\"Search by image\" role=\"button\")\n",
      "\n",
      "\n",
      "Chunk 3:\n",
      "  Tokens: 199\n",
      "  Preview:\n",
      "- body-1\n",
      "  - div-1\n",
      "    - form-1\n",
      "      - div-4\n",
      "        - div-5\n",
      "          - textarea-1 (... aria-label=\"Search\" aria-expanded=\"false\" name=\"q\" role=\"combobox\")\n",
      "          - div-6\n",
      "            - div-7 (aria-label=\" Clear\" role=\"button\")\n",
      "            - div-8\n",
      "              - div-9 (aria-label=\"Search by voice\" role=\"button\")\n",
      "              - div-10 (aria-label=\"Search by image\" role=\"button\")\n",
      "            - button-1 (role=\"link\" type=\"button\")\n",
      "              - span-2\n",
      "                - \"AI Mode\"\n",
      "        - center-1\n",
      "          - input-1 (value=\"Google Search\" aria-label=\"Google Search\" name=\"btnK\" role=\"button\" type=\"submit\")\n",
      "          - input-2 (value=\"I'm Feeling Lucky\" aria-label=\"I'm Feeling Lucky\" ...)\n",
      "\n",
      "\n",
      "Chunk 4:\n",
      "  Tokens: 195\n",
      "  Preview:\n",
      "- body-1\n",
      "  - div-1\n",
      "    - form-1\n",
      "      - div-4\n",
      "        - div-5\n",
      "          - div-6\n",
      "            - button-1 (role=\"link\" type=\"button\")\n",
      "              - span-2\n",
      "                - \"AI Mode\"\n",
      "        - center-1\n",
      "          - input-1 (value=\"Google Search\" aria-label=\"Google Search\" name=\"btnK\" role=\"button\" type=\"submit\")\n",
      "          - input-2 (value=\"I'm Feeling Lucky\" aria-label=\"I'm Feeling Lucky\" name=\"btnI\" role=\"button\" type=\"submit\")\n",
      "    - div-11 (role=\"contentinfo\")\n",
      "      - div-12\n",
      "        - div-13\n",
      "          - a-7\n",
      "            - \"Advertising\"\n",
      "          - a-8\n",
      "            - \"Business\"\n",
      "          - a-9\n",
      "            - \"How Search works\"\n",
      "        - span-3\n",
      "\n",
      "\n",
      "Chunk 5:\n",
      "  Tokens: 196\n",
      "  Preview:\n",
      "- body-1\n",
      "  - div-1\n",
      "    - form-1\n",
      "      - div-4\n",
      "        - center-1\n",
      "          - input-1 (... role=\"button\" type=\"submit\")\n",
      "          - input-2 (value=\"I'm Feeling Lucky\" aria-label=\"I'm Feeling Lucky\" name=\"btnI\" role=\"button\" type=\"submit\")\n",
      "    - div-11 (role=\"contentinfo\")\n",
      "      - div-12\n",
      "        - div-13\n",
      "          - a-7\n",
      "            - \"Advertising\"\n",
      "          - a-8\n",
      "            - \"Business\"\n",
      "          - a-9\n",
      "            - \"How Search works\"\n",
      "        - span-3\n",
      "          - \"Applying AI towards science and the environment\"\n",
      "        - div-14\n",
      "          - a-10\n",
      "            - \"Privacy\"\n",
      "          - a-11\n",
      "            - \"Terms\"\n",
      "          - div-15 (aria-expanded=\"false\" role=\"button\")\n",
      "\n",
      "\n",
      "Chunk 6:\n",
      "  Tokens: 190\n",
      "  Preview:\n",
      "- body-1\n",
      "  - div-1\n",
      "    - form-1\n",
      "      - div-4\n",
      "        - center-1\n",
      "          - input-2 (... name=\"btnI\" role=\"button\" type=\"submit\")\n",
      "    - div-11 (role=\"contentinfo\")\n",
      "      - div-12\n",
      "        - div-13\n",
      "          - a-7\n",
      "            - \"Advertising\"\n",
      "          - a-8\n",
      "            - \"Business\"\n",
      "          - a-9\n",
      "            - \"How Search works\"\n",
      "        - span-3\n",
      "          - \"Applying AI towards science and the environment\"\n",
      "        - div-14\n",
      "          - a-10\n",
      "            - \"Privacy\"\n",
      "          - a-11\n",
      "            - \"Terms\"\n",
      "          - div-15 (aria-expanded=\"false\" role=\"button\")\n",
      "            - div-16\n",
      "              - \"Settings\"\n",
      "  - div-17\n",
      "    - \"Google apps\"\n",
      "\n",
      "\n",
      "Chunk 7:\n",
      "  Tokens: 117\n",
      "  Preview:\n",
      "- body-1\n",
      "  - div-18 (aria-describedby=\"promo_desc_id\" aria-labelledby=\"promo_label_id\" role=\"dialog\")\n",
      "    - div-19\n",
      "      - span-4\n",
      "        - \"Sign in to Google\"\n",
      "      - span-5\n",
      "        - \"Get the most from your Google account\"\n",
      "      - div-20\n",
      "        - div-21 (role=\"button\")\n",
      "          - span-6\n",
      "            - \"Stay signed out\"\n",
      "        - div-22 (role=\"button\")\n",
      "          - span-7\n",
      "            - \"Sign in\"\n",
      "\n",
      "\n",
      "============================================================\n",
      "\n",
      "Notice the smart chunking features (v0.1.3):\n",
      "  • Parent hierarchy for context (e.g., body-1, div-1)\n",
      "  • Continuation markers '...' show where content splits\n",
      "  • Attributes split seamlessly: (type=\"submit\" ...)\n",
      "  • Text splits by word: \"Hello world ...\"\n",
      "\n",
      "To disable parent path, use: chunks(include_parent_path=False)\n"
     ]
    }
   ],
   "source": [
    "# Split into chunks of max 500 tokens with 50 token overlap\n",
    "chunks = list(context.chunks(max_tokens=200, overlap=50))\n",
    "\n",
    "print(f\"Total chunks: {len(chunks)}\")\n",
    "print(\"\\n\" + \"=\" * 60)\n",
    "\n",
    "for i, chunk in enumerate(chunks, 1):\n",
    "    print(f\"\\nChunk {i}:\")\n",
    "    print(f\"  Tokens: {chunk.tokens}\")\n",
    "    \n",
    "    preview = chunk.markdown\n",
    "    print(f\"  Preview:\\n{preview}\")\n",
    "\n",
    "print(\"\\n\" + \"=\" * 60)\n",
    "print(\"\\nNotice the smart chunking features (v0.1.3):\")\n",
    "print(\"  • Parent hierarchy for context (e.g., body-1, div-1)\")\n",
    "print(\"  • Continuation markers '...' show where content splits\")\n",
    "print(\"  • Attributes split seamlessly: (type=\\\"submit\\\" ...)\")\n",
    "print(\"  • Text splits by word: \\\"Hello world ...\\\"\")\n",
    "print(\"\\nTo disable parent path, use: chunks(include_parent_path=False)\")"
   ]
  },
  {
   "cell_type": "markdown",
   "metadata": {},
   "source": [
    "## Summary\n",
    "\n",
    "You've learned:\n",
    "- ✅ How to capture a live web page with Playwright\n",
    "- ✅ How to parse it into clean markdown\n",
    "- ✅ How to find elements by their generated IDs\n",
    "- ✅ How to chunk large pages for LLM context windows\n",
    "\n",
    "Next: Check out `advanced_demo.ipynb` for more features!"
   ]
  },
  {
   "cell_type": "markdown",
   "metadata": {},
   "source": [
    "## Cleanup\n",
    "\n",
    "Close the browser when you're done viewing the page."
   ]
  },
  {
   "cell_type": "code",
   "execution_count": 8,
   "metadata": {},
   "outputs": [
    {
     "name": "stdout",
     "output_type": "stream",
     "text": [
      "✓ Browser closed!\n"
     ]
    }
   ],
   "source": [
    "# Close the browser and cleanup\n",
    "await browser.close()\n",
    "await playwright.stop()\n",
    "print(\"✓ Browser closed!\")"
   ]
  }
 ],
 "metadata": {
  "kernelspec": {
   "display_name": "venv (3.13.5)",
   "language": "python",
   "name": "python3"
  },
  "language_info": {
   "codemirror_mode": {
    "name": "ipython",
    "version": 3
   },
   "file_extension": ".py",
   "mimetype": "text/x-python",
   "name": "python",
   "nbconvert_exporter": "python",
   "pygments_lexer": "ipython3",
   "version": "3.13.5"
  }
 },
 "nbformat": 4,
 "nbformat_minor": 4
}
